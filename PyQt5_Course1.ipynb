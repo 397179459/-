{
 "cells": [
  {
   "cell_type": "markdown",
   "metadata": {},
   "source": [
    "## 教师信息\n",
    "    姓名: 董兆宇\n",
    "    电话/微信: 13426253019 \n",
    "    邮箱: dongzhaoyu@k2data.com.cn"
   ]
  },
  {
   "cell_type": "markdown",
   "metadata": {},
   "source": [
    "# PyQt5 课程 (1) —— 课程概要：\n",
    "    1. PyQt 介绍\n",
    "    2. PyQt5 模块介绍\n",
    "    3. PyQt5 的安装和组件介绍\n",
    "    4. PyQt5 控件介绍\n",
    "    5. PyQt5 创建界面\n",
    "    6. PyQt5 线程通信\n",
    "    7. 课堂实际案例 GUI编程"
   ]
  },
  {
   "cell_type": "markdown",
   "metadata": {},
   "source": [
    "## 1. PyQt 介绍\n",
    "    GUI 就是图像用户界面 (Graphical User Interface), Python的GUI库很多，除了PyQt，还有Tkinter，wxPython，PyGTK等等。不过，其中PyQt是最好用，最专业的。\n",
    "    PyQt是一个创建GUI应用程序的工具包。它是Python编程语言和Qt库的成功融合。Qt库是目前最强大的库之一\n",
    "    PyQt实现了一个Python模块集。它有超过300类，将近6000个函数和方法。它是一个多平台的工具包，可以运行在所有主要操作系统上，包括UNIX，Windows和Mac。\n",
    "    PyQt 目前常见的是 PyQt4 和 PyQt5\n",
    "\n",
    "#### PyQt4和PyQt5差异 \n",
    "1. PyQt5与PyQt4不兼容 \n",
    "2. 模块已经重组,有些模块已经被删除(QtScript),其他模块被划分为子模块(QtGui，QtWebKit). \n",
    "3. 新模块已经引入,包括QtBluetooth, QtPositioning, or Enginio. \n",
    "4. PyQt5只支持新型的信号和slots handlig.对SIGNAL()或SLOT()的调用不再受支持. \n",
    "5. PyQt5不支持Qt API,这些部分在Qt v5.0中被标记为弃用或过时.\n",
    "\n",
    "### 本教程将以 PyQt5 和 Python3 作示范代码"
   ]
  },
  {
   "cell_type": "markdown",
   "metadata": {},
   "source": [
    "## 2. PyQt5 模块介绍\n",
    "#### PyQt5的类被划分在几个模块中，下面列出了这些模块：\n",
    "\n",
    "    QtCore : 包含了非GUI的功能设计。这个模块被用来实现时间，文件和目录，不同数据类型，流，URL，mime类型，线程和进程\n",
    "    QtGui  : 包含的类用于窗口化的系统结构，事件处理，2D绘图，基本图形，字体和文本\n",
    "    QtWidgets : 包含的类提供了一套UI元素来创建经典桌面风格用户界面\n",
    "    QtMultimedia  :  包含的类用于处理多媒体内容和链接摄像头和无线电功能的API\n",
    "    QtBluetooth :  包含的类用于扫描蓝牙设备，并且和他们建立连接互动\n",
    "    QtNetwork  :  包含的类用于网络编程，这些类使TCP/IP和UDP客户端/服务端编程更加容易和轻便\n",
    "    QtPositioning  :  包含的类用于多种可获得资源的位置限定，包含卫星定位，Wi-Fi，或一个文本文件\n",
    "    Enginio  :  用于解决客户端访问Qt云服务托管\n",
    "    QtWebSockets  :  包含的类用于解决WebSocket通信协议\n",
    "    QtWebKit  :  包含的关于浏览器的类用于解决基于WebKit2的支持库\n",
    "    QtWebKitWidgets  :  包含的关于WebKit1的类基本解决浏览器使用基于QtWidgets应用问题\n",
    "    QtXml  :  包含的类用于解析XML文件。这个模块提供SAX和DOM API解决方法\n",
    "    QtSvg  :  提供类用于显示SVG文件内容。Scalable Vector Graphics (SVG) 是一种语言，用XML来描述二维图形和图形应用程序\n",
    "    QtSql  :  提供类驱动数据库工作\n",
    "    QtTest :  包含了方法提供PyQt5应用的单元测试"
   ]
  },
  {
   "cell_type": "markdown",
   "metadata": {},
   "source": [
    "## 3. PyQt5 的安装和组件介绍\n",
    "#### PyQt5的安装\n",
    "    1. 一般 安装 Anaconda3 后会默认安装PyQt5, 其安装位置应该在 /ProgramData/Anaconda3/Library/bin\n",
    "    2. 也可以直接安装,运行命令如下 \n",
    "        pip install pyqt5\n",
    "        pip install pyqt5-tools\n",
    "        \n",
    "#### PyQt5的重要组件\n",
    "    1. designer :  可以通过拖拽的方式创建用户界面 生成(.ui)文件\n",
    "    2. uic :  可以将ui文件转化为 py文件,运行命令如下 \n",
    "        pyuic5 -o destination.py source.ui"
   ]
  },
  {
   "cell_type": "markdown",
   "metadata": {},
   "source": [
    "## 4. PyQt5 控件介绍\n",
    "[PyQt5 基本控件介绍](https://blog.csdn.net/jia666666/article/category/7916211/2?)\n",
    "[PyQt5 高级控件介绍](https://blog.csdn.net/jia666666/article/category/7931485)"
   ]
  },
  {
   "cell_type": "markdown",
   "metadata": {},
   "source": [
    "####  输入显示控件类\n",
    "    QSpinBox (数字输入框)\n",
    "    QLineEdit (单行文本输入框)\n",
    "    QTextEdit (多行文本输入框) \n",
    "    QTextBrowser (单行文本显示框) \n",
    "\n",
    "####  窗口控件类\n",
    "    QMainWindow (主窗口) ## 有菜单条、锚接窗口（例如工具条），状态条 和 最大最小按钮的主应用程序窗口\n",
    "    QWidget (基础窗口)  ## 是所有用户界面对象的基类 \n",
    "    QDialog (对话框)  ## 派生自QWidget，是顶级窗口，功能也最基础, 最普通的顶级窗口\n",
    "    QInputDialog (标准输入对话框) ## 由一个文本框和两个按钮 (ok和cancel)组成\n",
    "    QFontDialog (字体选择对话框)  ## 可以让用户选择所显示文本的字号大小\n",
    "    QFileDialog (文件IO对话框)  ## 用于打开和保存文件\n",
    "    QMessageBox (标准消息框) ##  通用的弹出式对话框，用于显示消息\n",
    "    \n",
    "####  按钮类\n",
    "    QPushButton (基础按钮) \n",
    "    QToolButton (工具按钮) ## 和 QPushButton 基本一致, 只是默认文本为...\n",
    "    QRadioButton (单选按钮)  ## 多个QRadioButton 状态联动\n",
    "    QCheckBox (复选按钮)  ## 支持三态选择 ,选中/半选/未选中\n",
    "    QComboBox (下拉菜单)  ## 多选项 下拉选择 默认是单选 ，但是可以通过定制item方法改为 QComboCheckBox (下拉复选)\n",
    "\n",
    "####  表格类\n",
    "    QListView (单列列表框)  ##  QListView 是基于模型QModel，需要程序来建立模型，然后再保存数据 ,只显示单列数据\n",
    "    QListWidget (单列列表框)   ## QListView 的子类 , 可以定制化 item\n",
    "    QTableView (多列列表框)  ##  QTableView 是基于模型QModel，需要程序来建立模型，然后再保存数据 ,只显示单列数据\n",
    "    QTableWidget (多列列表框) ## QTableView 的子类 , 可以定制化 item\n",
    "    QTreeWidget (树形列表框) \n",
    "\n",
    "####  导航栏类\n",
    "    QMenuBar (菜单栏) \n",
    "    QToolBar (工具栏)\n",
    "    QStatusBar (状态栏) \n",
    "    \n",
    "####  布局类\n",
    "    QVBoxLayout (水平布局)\n",
    "    QHBoxLayout (垂直布局)\n",
    "    QGridLayout (栅格布局)\n",
    "    QFormLayout (表单布局)"
   ]
  },
  {
   "cell_type": "markdown",
   "metadata": {},
   "source": [
    "###  输入显示控件类"
   ]
  },
  {
   "cell_type": "markdown",
   "metadata": {},
   "source": [
    "#### [QSpinBox (数字输入框)](https://blog.csdn.net/jia666666/article/details/81534431)\n",
    "<img src=\"https://img-blog.csdn.net/20180809121300734?watermark/2/text/aHR0cHM6Ly9ibG9nLmNzZG4ubmV0L2ppYTY2NjY2Ng==/font/5a6L5L2T/fontsize/400/fill/I0JBQkFCMA==/dissolve/70\" width=\"230\" hegiht=\"230\" align=left />"
   ]
  },
  {
   "cell_type": "markdown",
   "metadata": {},
   "source": [
    "#### [ QLineEdit (单行文本输入框)](https://blog.csdn.net/jia666666/article/details/81510502)\n",
    "<img src=\"https://img-blog.csdn.net/20180808160046327?watermark/2/text/aHR0cHM6Ly9ibG9nLmNzZG4ubmV0L2ppYTY2NjY2Ng==/font/5a6L5L2T/fontsize/400/fill/I0JBQkFCMA==/dissolve/70\" width=\"230\" hegiht=\"230\" align=left />"
   ]
  },
  {
   "cell_type": "markdown",
   "metadata": {},
   "source": [
    "#### [QTextEdit (多行文本输入框) ](https://blog.csdn.net/jia666666/article/details/81511435)\n",
    "<img src=\"https://img-blog.csdn.net/20180808165636834?watermark/2/text/aHR0cHM6Ly9ibG9nLmNzZG4ubmV0L2ppYTY2NjY2Ng==/font/5a6L5L2T/fontsize/400/fill/I0JBQkFCMA==/dissolve/70\" width=\"230\" hegiht=\"230\" align=left />"
   ]
  },
  {
   "cell_type": "markdown",
   "metadata": {},
   "source": [
    "#### [QTextBrowser (单行文本显示框) ](https://blog.csdn.net/La_vie_est_belle/article/details/82431461)\n",
    "<img src=\"https://img-blog.csdn.net/2018091318090174?watermark/2/text/aHR0cHM6Ly9ibG9nLmNzZG4ubmV0L0xhX3ZpZV9lc3RfYmVsbGU=/font/5a6L5L2T/fontsize/400/fill/I0JBQkFCMA==/dissolve/70\" width=\"230\" hegiht=\"230\" align=left />"
   ]
  },
  {
   "cell_type": "markdown",
   "metadata": {},
   "source": [
    "###  窗口控件类   \n",
    "[窗口类各控件区别](https://blog.csdn.net/Mengwei_Ren/article/details/71305885)"
   ]
  },
  {
   "cell_type": "markdown",
   "metadata": {},
   "source": [
    "#### [QMainWindow (主窗口)](https://blog.csdn.net/jia666666/article/details/81488602)\n",
    "<img src=\"https://img-blog.csdn.net/20180807205908901?watermark/2/text/aHR0cHM6Ly9ibG9nLmNzZG4ubmV0L2ppYTY2NjY2Ng==/font/5a6L5L2T/fontsize/400/fill/I0JBQkFCMA==/dissolve/70\" width=\"230\" hegiht=\"230\" align=left />"
   ]
  },
  {
   "cell_type": "markdown",
   "metadata": {},
   "source": [
    "#### [QWidget (基础窗口)](https://blog.csdn.net/jia666666/article/details/81489090)"
   ]
  },
  {
   "cell_type": "markdown",
   "metadata": {},
   "source": [
    "#### [QDialog (对话框)](https://blog.csdn.net/jia666666/article/details/81539733)"
   ]
  },
  {
   "cell_type": "markdown",
   "metadata": {},
   "source": [
    "#### [QInputDialog (标准输入对话框)](https://blog.csdn.net/jia666666/article/details/81541573)\n",
    "<img src=\"https://img-blog.csdn.net/2018080917482183?watermark/2/text/aHR0cHM6Ly9ibG9nLmNzZG4ubmV0L2ppYTY2NjY2Ng==/font/5a6L5L2T/fontsize/400/fill/I0JBQkFCMA==/dissolve/70\" width=\"230\" hegiht=\"230\" align=left />"
   ]
  },
  {
   "cell_type": "markdown",
   "metadata": {},
   "source": [
    "#### [QFontDialog (字体选择对话框)](https://blog.csdn.net/jia666666/article/details/81559623)\n",
    "<img src=\"https://img-blog.csdn.net/20180810105727871?watermark/2/text/aHR0cHM6Ly9ibG9nLmNzZG4ubmV0L2ppYTY2NjY2Ng==/font/5a6L5L2T/fontsize/400/fill/I0JBQkFCMA==/dissolve/70\" width=\"300\" hegiht=\"300\" align=left />"
   ]
  },
  {
   "cell_type": "markdown",
   "metadata": {},
   "source": [
    "#### [QFileDialog (文件IO对话框)](https://blog.csdn.net/jia666666/article/details/81560756)\n",
    "<img src=\"https://img-blog.csdn.net/2018081011280498?watermark/2/text/aHR0cHM6Ly9ibG9nLmNzZG4ubmV0L2ppYTY2NjY2Ng==/font/5a6L5L2T/fontsize/400/fill/I0JBQkFCMA==/dissolve/70\" width=\"300\" hegiht=\"300\" align=left />"
   ]
  },
  {
   "cell_type": "markdown",
   "metadata": {},
   "source": [
    "#### [QMessageBox (标准消息框)](https://blog.csdn.net/jia666666/article/details/81540785)\n",
    "<img src=\"https://img-blog.csdn.net/201808091719011?watermark/2/text/aHR0cHM6Ly9ibG9nLmNzZG4ubmV0L2ppYTY2NjY2Ng==/font/5a6L5L2T/fontsize/400/fill/I0JBQkFCMA==/dissolve/70\" width=\"230\" hegiht=\"230\" align=left />"
   ]
  },
  {
   "cell_type": "markdown",
   "metadata": {},
   "source": [
    "###  按钮类"
   ]
  },
  {
   "cell_type": "markdown",
   "metadata": {},
   "source": [
    "#### [QPushButton (基础按钮)](https://blog.csdn.net/jia666666/article/details/81513443)\n",
    "<img src=\"https://img-blog.csdn.net/20180808181146693?watermark/2/text/aHR0cHM6Ly9ibG9nLmNzZG4ubmV0L2ppYTY2NjY2Ng==/font/5a6L5L2T/fontsize/400/fill/I0JBQkFCMA==/dissolve/70\" width=\"230\" hegiht=\"230\" align=left />"
   ]
  },
  {
   "cell_type": "markdown",
   "metadata": {},
   "source": [
    "#### [QRadioButton (单选按钮)](https://blog.csdn.net/jia666666/article/details/81514777)\n",
    "<img src=\"https://img-blog.csdn.net/20180808200807999?watermark/2/text/aHR0cHM6Ly9ibG9nLmNzZG4ubmV0L2ppYTY2NjY2Ng==/font/5a6L5L2T/fontsize/400/fill/I0JBQkFCMA==/dissolve/70\n",
    "\" width=\"230\" hegiht=\"230\" align=left />"
   ]
  },
  {
   "cell_type": "markdown",
   "metadata": {},
   "source": [
    "#### [QCheckBox (复选按钮)](https://blog.csdn.net/jia666666/article/details/81533763)\n",
    "<img src=\"https://img-blog.csdn.net/201808091120517?watermark/2/text/aHR0cHM6Ly9ibG9nLmNzZG4ubmV0L2ppYTY2NjY2Ng==/font/5a6L5L2T/fontsize/400/fill/I0JBQkFCMA==/dissolve/70\n",
    "\" width=\"230\" hegiht=\"230\" align=left />"
   ]
  },
  {
   "cell_type": "markdown",
   "metadata": {},
   "source": [
    "#### [QComboBox (下拉菜单)](https://blog.csdn.net/jia666666/article/details/81534260)\n",
    "<img src=\"https://img-blog.csdn.net/20180809115200161?watermark/2/text/aHR0cHM6Ly9ibG9nLmNzZG4ubmV0L2ppYTY2NjY2Ng==/font/5a6L5L2T/fontsize/400/fill/I0JBQkFCMA==/dissolve/70\n",
    "\" width=\"230\" hegiht=\"230\" align=left />"
   ]
  },
  {
   "cell_type": "markdown",
   "metadata": {},
   "source": [
    "###  表格类"
   ]
  },
  {
   "cell_type": "markdown",
   "metadata": {},
   "source": [
    "#### [QListView (单列列表框) ](https://blog.csdn.net/jia666666/article/details/81624550)"
   ]
  },
  {
   "cell_type": "markdown",
   "metadata": {},
   "source": [
    "#### [QListWidget (单列列表框) ](https://blog.csdn.net/jia666666/article/details/81624837)\n",
    "<img src=\"https://img-blog.csdn.net/20180813095839197?watermark/2/text/aHR0cHM6Ly9ibG9nLmNzZG4ubmV0L2ppYTY2NjY2Ng==/font/5a6L5L2T/fontsize/400/fill/I0JBQkFCMA==/dissolve/70\n",
    "\" width=\"230\" hegiht=\"230\" align=left />"
   ]
  },
  {
   "cell_type": "markdown",
   "metadata": {},
   "source": [
    "#### [QTableView (多列列表框)](https://blog.csdn.net/jia666666/article/details/81624259)"
   ]
  },
  {
   "cell_type": "markdown",
   "metadata": {},
   "source": [
    "#### [QTableWidget (多列列表框)](https://blog.csdn.net/jia666666/article/details/81627589)\n",
    "<img src=\"https://img-blog.csdn.net/20180813104922733?watermark/2/text/aHR0cHM6Ly9ibG9nLmNzZG4ubmV0L2ppYTY2NjY2Ng==/font/5a6L5L2T/fontsize/400/fill/I0JBQkFCMA==/dissolve/70\n",
    "\" width=\"230\" hegiht=\"230\" align=left />"
   ]
  },
  {
   "cell_type": "markdown",
   "metadata": {},
   "source": [
    "#### [QTreeWidget (树形列表框) ](https://blog.csdn.net/jia666666/article/details/81668590)\n",
    "<img src=\"https://img-blog.csdn.net/20180814153927914?watermark/2/text/aHR0cHM6Ly9ibG9nLmNzZG4ubmV0L2ppYTY2NjY2Ng==/font/5a6L5L2T/fontsize/400/fill/I0JBQkFCMA==/dissolve/70\n",
    "\" width=\"230\" hegiht=\"230\" align=left />"
   ]
  },
  {
   "cell_type": "markdown",
   "metadata": {},
   "source": [
    "###  导航栏类"
   ]
  },
  {
   "cell_type": "markdown",
   "metadata": {},
   "source": [
    "#### [QMenuBar (菜单栏) ](https://blog.csdn.net/jia666666/article/details/81589679)\n",
    "<img src=\"https://img-blog.csdn.net/20180811183457350?watermark/2/text/aHR0cHM6Ly9ibG9nLmNzZG4ubmV0L2ppYTY2NjY2Ng==/font/5a6L5L2T/fontsize/400/fill/I0JBQkFCMA==/dissolve/70\n",
    "\" width=\"230\" hegiht=\"230\" align=left />"
   ]
  },
  {
   "cell_type": "markdown",
   "metadata": {},
   "source": [
    "#### [QToolBar (工具栏)](https://blog.csdn.net/jia666666/article/details/81589803)\n",
    "<img src=\"https://img-blog.csdn.net/20180811185232406?watermark/2/text/aHR0cHM6Ly9ibG9nLmNzZG4ubmV0L2ppYTY2NjY2Ng==/font/5a6L5L2T/fontsize/400/fill/I0JBQkFCMA==/dissolve/70\n",
    "\" width=\"230\" hegiht=\"230\" align=left />"
   ]
  },
  {
   "cell_type": "markdown",
   "metadata": {},
   "source": [
    "#### [QStatusBar (状态栏)](https://blog.csdn.net/jia666666/article/details/81589928)\n",
    "<img src=\"https://img-blog.csdn.net/20180820101123417?watermark/2/text/aHR0cHM6Ly9ibG9nLmNzZG4ubmV0L2ppYTY2NjY2Ng==/font/5a6L5L2T/fontsize/400/fill/I0JBQkFCMA==/dissolve/70\n",
    "\" width=\"230\" hegiht=\"230\" align=left />"
   ]
  },
  {
   "cell_type": "code",
   "execution_count": null,
   "metadata": {},
   "outputs": [],
   "source": []
  },
  {
   "cell_type": "markdown",
   "metadata": {},
   "source": [
    "### [布局管理](https://www.jianshu.com/p/3832eb48f3d5)"
   ]
  },
  {
   "cell_type": "code",
   "execution_count": null,
   "metadata": {},
   "outputs": [],
   "source": []
  },
  {
   "cell_type": "markdown",
   "metadata": {},
   "source": [
    "## 5. PyQt5 创建界面"
   ]
  },
  {
   "cell_type": "code",
   "execution_count": 1,
   "metadata": {},
   "outputs": [
    {
     "name": "stdout",
     "output_type": "stream",
     "text": [
      "关闭主窗口 被按下了\n"
     ]
    },
    {
     "ename": "SystemExit",
     "evalue": "0",
     "output_type": "error",
     "traceback": [
      "An exception has occurred, use %tb to see the full traceback.\n",
      "\u001b[1;31mSystemExit\u001b[0m\u001b[1;31m:\u001b[0m 0\n"
     ]
    },
    {
     "name": "stderr",
     "output_type": "stream",
     "text": [
      "D:\\ProgramData\\Anaconda3\\lib\\site-packages\\IPython\\core\\interactiveshell.py:3275: UserWarning: To exit: use 'exit', 'quit', or Ctrl-D.\n",
      "  warn(\"To exit: use 'exit', 'quit', or Ctrl-D.\", stacklevel=1)\n"
     ]
    }
   ],
   "source": [
    "###  QMainWindow 实例化代码 (所有控件均代码创建)\n",
    "from PyQt5.QtWidgets import QMainWindow,QApplication,QHBoxLayout,QPushButton,QWidget\n",
    "import sys\n",
    "\n",
    "class WinForm(QMainWindow):\n",
    "\n",
    "    def __init__(self,parent=None):\n",
    "        super(WinForm, self).__init__(parent)\n",
    "        self.setWindowTitle('关闭主窗口的例子')\n",
    "        #创建按钮实例，按钮名称：关闭主窗口\n",
    "        self.button1=QPushButton('测试按钮')\n",
    "        #按钮的clicked信号与onButtonClick槽函数关联起来\n",
    "        self.button1.clicked.connect(self.onButtonClick)\n",
    "\n",
    "        #水平布局\n",
    "        layout=QHBoxLayout()\n",
    "        #按钮加入水平布局中\n",
    "        layout.addWidget(self.button1)\n",
    "\n",
    "        #创建widget窗口实例\n",
    "        main_frame=QWidget()\n",
    "        #加载布局\n",
    "        main_frame.setLayout(layout)\n",
    "        #把widget窗口加载到主窗口的中央位置\n",
    "        self.setCentralWidget(main_frame)\n",
    "\n",
    "    def onButtonClick(self):\n",
    "        #sender是发送信号的对象，这里获得的是按钮的名称\n",
    "        sender=self.sender()\n",
    "        #以文本的行书输出按钮的名称\n",
    "        print (sender.text() + ' 被按下了')\n",
    "        \n",
    "if __name__ == '__main__':\n",
    "    app=QApplication(sys.argv)\n",
    "    win=WinForm()\n",
    "    win.show()\n",
    "    sys.exit(app.exec_())"
   ]
  },
  {
   "cell_type": "code",
   "execution_count": 3,
   "metadata": {},
   "outputs": [
    {
     "ename": "SystemExit",
     "evalue": "0",
     "output_type": "error",
     "traceback": [
      "An exception has occurred, use %tb to see the full traceback.\n",
      "\u001b[1;31mSystemExit\u001b[0m\u001b[1;31m:\u001b[0m 0\n"
     ]
    },
    {
     "name": "stderr",
     "output_type": "stream",
     "text": [
      "D:\\ProgramData\\Anaconda3\\lib\\site-packages\\IPython\\core\\interactiveshell.py:3275: UserWarning: To exit: use 'exit', 'quit', or Ctrl-D.\n",
      "  warn(\"To exit: use 'exit', 'quit', or Ctrl-D.\", stacklevel=1)\n"
     ]
    }
   ],
   "source": [
    "###  QWidget 实例化代码 (所有控件均代码创建)\n",
    "from PyQt5.QtWidgets import QApplication,  QWidget, QLabel, QHBoxLayout, QPushButton, QLineEdit, QVBoxLayout,QMessageBox\n",
    "import sys\n",
    "\n",
    "class ShowWindow(QWidget):\n",
    "    \n",
    "    def __init__(self):\n",
    "        super(ShowWindow,self).__init__()      \n",
    "        self.initUI()\n",
    "\n",
    "    def initUI(self):\n",
    "        self.inputLabel = QLabel(\"Input your text\")\n",
    "        self.editLine = QLineEdit()\n",
    "        self.printButton = QPushButton(\"Print\")\n",
    "        self.clearButton = QPushButton(\"Clear\")\n",
    "\n",
    "        self.printButton.clicked.connect(self.printText)\n",
    "        self.clearButton.clicked.connect(self.clearText)\n",
    "\n",
    "        inputLayout = QHBoxLayout()\n",
    "        inputLayout.addWidget(self.inputLabel)\n",
    "        inputLayout.addWidget(self.editLine)\n",
    "\n",
    "        buttonLayout = QHBoxLayout()\n",
    "        buttonLayout.addWidget(self.printButton)\n",
    "        buttonLayout.addWidget(self.clearButton)\n",
    "\n",
    "        mainLayout = QVBoxLayout()\n",
    "        mainLayout.addLayout(inputLayout)\n",
    "        mainLayout.addLayout(buttonLayout)\n",
    "\n",
    "        self.setLayout(mainLayout)\n",
    "        self.setWindowTitle('FristWindow') \n",
    "        self.show()\n",
    "    def printText(self):\n",
    "        text = self.editLine.text()\n",
    "\n",
    "        if text == '':\n",
    "            QMessageBox.information(self, \"Empty Text\",\n",
    "                                    \"Please enter the letter.\")\n",
    "        else :\n",
    "            QMessageBox.information(self, \"Print Success\",\n",
    "                                    \"Text: %s\" % text)\n",
    "    def clearText(self):\n",
    "        text = self.editLine.text()\n",
    "\n",
    "        if text == '':\n",
    "            return\n",
    "        else :\n",
    "            self.editLine.clear()\n",
    "\n",
    "if __name__ == '__main__':\n",
    "    app = QApplication(sys.argv)\n",
    "    ex = ShowWindow()\n",
    "    sys.exit(app.exec_()) "
   ]
  },
  {
   "cell_type": "code",
   "execution_count": null,
   "metadata": {},
   "outputs": [],
   "source": [
    "###  QMainWindow 实例化代码 (所有控件为Designer 拖拽创建的 main.ui, 将ui转为 destination.py 加载使用)\n",
    "### pyuic5 -o destination.py main.ui\n",
    "import sys\n",
    "import destination ## 被ui文件 转换后的 destination\n",
    "from PyQt5.QtWidgets import QApplication, QMainWindow\n",
    "\n",
    "if __name__ == '__main__':\n",
    "    app = QApplication(sys.argv)\n",
    "    MainWindow = QMainWindow()\n",
    "    ui = hello.Ui_MainWindow() \n",
    "    ui.setupUi(MainWindow)  \n",
    "    MainWindow.show()\n",
    "    sys.exit(app.exec_())"
   ]
  },
  {
   "cell_type": "code",
   "execution_count": null,
   "metadata": {},
   "outputs": [],
   "source": [
    "###  QMainWindow 实例化代码 (所有控件为Designer 拖拽创建的 main.ui, 无需转换，直接使用ui)\n",
    "###  建议 使用此种模式 进行窗口创建\n",
    "from PyQt5.QtWidgets import QApplication, QMainWindow\n",
    "from PyQt5.uic import loadUi\n",
    "\n",
    "class MainWindow(QMainWindow):\n",
    "    def __init__(self, parent=None):\n",
    "        super(MainWindow, self).__init__(parent)\n",
    "        loadUi('main.ui', self)\n",
    "\n",
    "if __name__ == '__main__':\n",
    "    app = QApplication(sys.argv)\n",
    "    w = MainWindow()\n",
    "    w.show()\n",
    "    sys.exit(app.exec())"
   ]
  },
  {
   "cell_type": "markdown",
   "metadata": {},
   "source": [
    "## [6. PyQt5 线程通信](https://blog.csdn.net/a359680405/article/details/45196207)\n",
    "    信号(singal)与槽(slot)用于对象相互通信，信号：当某个对象的某个事件发生时，触发一个信号，槽：响应指定信号的所做的反应，其实信号槽类似于.NET里面的委托、事件，比如Repeater控件类，当行数据绑定后，触发一个ItemDataBound事件，不管使用者使用会监听该事件并做额外处理，其控件类内部都会触发该事件，这种机制很多程度提高了类的封装性和完整性。\n",
    "    \n",
    "#### PyQt的窗体控件类已经有很多的内置信号，开发者也可以添加自己的自定义信号,信号槽有如下特点：\n",
    "    - 一个信号可以连接到许多插槽。\n",
    "    - 一个信号也可以连接到另一个信号。\n",
    "    - 信号参数可以是任何Python类型。\n",
    "    - 一个插槽可以连接到许多信号。\n",
    "    - 连接可能会直接（即同步）或排队（即异步）。\n",
    "    - 连接可能会跨线程。\n",
    "    - 信号可能会断开"
   ]
  },
  {
   "cell_type": "code",
   "execution_count": 5,
   "metadata": {},
   "outputs": [],
   "source": [
    "### 使用QThread 可以实现非阻塞编程, 利用子线程处理业务 , 避免主进程无法响应\n",
    "from PyQt5.QtCore import *\n",
    "class BaseThread(QThread):\n",
    "    StringSignal = pyqtSignal(str)\n",
    "    DictSignal = pyqtSignal(dict)\n",
    "    \n",
    "    def __init__(self,parent=None):\n",
    "        super(BaseThread, self).__init__(parent)\n",
    "           \n",
    "    def run(self):\n",
    "        pass\n",
    "    \n",
    "thread = BaseThread()\n",
    "thread.start() ## 执行 BaseThread.run() "
   ]
  },
  {
   "cell_type": "code",
   "execution_count": null,
   "metadata": {},
   "outputs": [],
   "source": []
  },
  {
   "cell_type": "markdown",
   "metadata": {},
   "source": [
    "## 7. 课堂实际案例 GUI编程"
   ]
  },
  {
   "cell_type": "markdown",
   "metadata": {},
   "source": [
    "##### 案例功能需求\n",
    "1. 支持导入 数据文件 (单击 '按钮0')\n",
    "2. 数据显示在 多列列表框中\n",
    "3. 将 数据的 列首显示在 下拉菜单中\n",
    "4. 单击 '按钮1' ，获取当前数据列 的去重后个数显示在 单行文本输入框中\n",
    "5. 单击 '按钮2' ，获取当前数据列 的最大值和最小值 弹出消息对话框\n",
    "6. 单击 '按钮3' , 执行运算逻辑 (time.sleep(5)) 对数据进行宽表转换, 支持index,columns ,values 和 aggfuncs 的选择\n",
    "7. 单击 '按钮4' ，将转换后的宽表 导出 保存文件\n",
    "8. 所有操作过程需要 由状态提示/ 消息提示\n",
    "9. 建立菜单栏 加入 数据导入功能"
   ]
  },
  {
   "cell_type": "code",
   "execution_count": null,
   "metadata": {},
   "outputs": [],
   "source": []
  }
 ],
 "metadata": {
  "kernelspec": {
   "display_name": "Python 3",
   "language": "python",
   "name": "python3"
  },
  "language_info": {
   "codemirror_mode": {
    "name": "ipython",
    "version": 3
   },
   "file_extension": ".py",
   "mimetype": "text/x-python",
   "name": "python",
   "nbconvert_exporter": "python",
   "pygments_lexer": "ipython3",
   "version": "3.7.1"
  }
 },
 "nbformat": 4,
 "nbformat_minor": 2
}
