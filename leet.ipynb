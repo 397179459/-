{
 "cells": [
  {
   "cell_type": "markdown",
   "metadata": {},
   "source": [
    "## 不同路径 "
   ]
  },
  {
   "cell_type": "code",
   "execution_count": 4,
   "metadata": {},
   "outputs": [
    {
     "data": {
      "text/plain": [
       "28"
      ]
     },
     "execution_count": 4,
     "metadata": {},
     "output_type": "execute_result"
    }
   ],
   "source": [
    "def uniqueroad(m, n):\n",
    "    cur = [1] * n\n",
    "    for i in range(1, m):\n",
    "        for j in range(1, n):\n",
    "            cur[j] += cur[j-1]\n",
    "    return cur[-1]\n",
    "\n",
    "uniqueroad(7, 3)"
   ]
  },
  {
   "cell_type": "code",
   "execution_count": 2,
   "metadata": {},
   "outputs": [
    {
     "name": "stdout",
     "output_type": "stream",
     "text": [
      "b'<html>\\r\\n<head>\\r\\n\\t<script>\\r\\n\\t\\tlocation.replace(location.href.replace(\"https://\",\"http://\"));\\r\\n\\t</script>\\r\\n</head>\\r\\n<body>\\r\\n\\t<noscript><meta http-equiv=\"refresh\" content=\"0;url=http://www.baidu.com/\"></noscript>\\r\\n</body>\\r\\n</html>'\n"
     ]
    }
   ],
   "source": [
    "import urllib.request\n",
    "r = urllib.request.urlopen('https://www.baidu.com')\n",
    "html = r.read()\n",
    "print(html)"
   ]
  },
  {
   "cell_type": "markdown",
   "metadata": {
    "heading_collapsed": true
   },
   "source": [
    "## 最接近的三数之和"
   ]
  },
  {
   "cell_type": "code",
   "execution_count": 4,
   "metadata": {
    "hidden": true
   },
   "outputs": [
    {
     "data": {
      "text/plain": [
       "0"
      ]
     },
     "execution_count": 4,
     "metadata": {},
     "output_type": "execute_result"
    }
   ],
   "source": [
    "def threeSumClosest(nums, target):\n",
    "    if len(nums) < 3:\n",
    "        return 0\n",
    "    nums.sort()\n",
    "    ret = nums[0] + nums[1] + nums[2]\n",
    "    for i in range(len(nums) - 2):\n",
    "        l, r = i+1, len(nums) - 1\n",
    "        while l < r:\n",
    "            s = nums[i] + nums[l] + nums[r]\n",
    "            if s == target:\n",
    "                return s\n",
    "            if abs(s - target) < abs(ret - target):\n",
    "                ret = s\n",
    "            if s > target:\n",
    "                r -= 1\n",
    "            else:\n",
    "                l += 1\n",
    "    return ret\n",
    "\n",
    "threeSumClosest([0,2,1,-3], 1)"
   ]
  },
  {
   "cell_type": "markdown",
   "metadata": {
    "heading_collapsed": true
   },
   "source": [
    "## 最长公共前缀"
   ]
  },
  {
   "cell_type": "markdown",
   "metadata": {
    "hidden": true
   },
   "source": [
    "### 执行最快的方法 用enumerate遍历"
   ]
  },
  {
   "cell_type": "code",
   "execution_count": null,
   "metadata": {
    "hidden": true,
    "scrolled": true
   },
   "outputs": [],
   "source": [
    "def longestCommonPrefix(strs: 'List[str]') -> 'str':\n",
    "    if len(strs) == 0:\n",
    "        return ''\n",
    "    if len(strs) == 1:\n",
    "        return strs[0]\n",
    "\n",
    "    prefix, chars = '', zip(*strs)\n",
    "    print(chars)\n",
    "    for i, group in enumerate(chars):\n",
    "        print(group)\n",
    "        ch = group[0]\n",
    "        for j in range(1, len(group)):\n",
    "            if group[j] != ch:\n",
    "                return prefix\n",
    "        prefix += strs[0][i]\n",
    "    return prefix\n",
    "\n",
    "longestCommonPrefix([\"abca\",\"abc\",'abcgf'])"
   ]
  },
  {
   "cell_type": "code",
   "execution_count": null,
   "metadata": {
    "hidden": true
   },
   "outputs": [],
   "source": [
    "def longestCommonPrefix(strs):\n",
    "    ret = ''\n",
    "    if not strs:\n",
    "        return ret\n",
    "    mins = min(len(s) for s in strs)\n",
    "    same = True\n",
    "    for i in range(mins):\n",
    "        judge = [x[i] for x in strs]\n",
    "        for j in range(len(judge)):\n",
    "            if judge[j] != judge[0]:\n",
    "                same = False\n",
    "        if same:\n",
    "            ret += judge[j]\n",
    "    return ret\n",
    "\n",
    "longestCommonPrefix([\"abca\",\"abc\"])"
   ]
  },
  {
   "cell_type": "markdown",
   "metadata": {
    "hidden": true
   },
   "source": [
    "### 这里集合长度 == 1判断不适用于两个元素"
   ]
  },
  {
   "cell_type": "code",
   "execution_count": null,
   "metadata": {
    "hidden": true
   },
   "outputs": [],
   "source": [
    "nums = ['hello', 'hel', 'helj', 'help']\n",
    "def a(l):\n",
    "    ret = ''\n",
    "    if not l:\n",
    "        return ret\n",
    "    mins = min([len(s) for s in l])\n",
    "    for i in range(mins):\n",
    "        judge = [x[i] for x in l]\n",
    "        print(judge)\n",
    "        if len(set(judge)) == 1:\n",
    "            ret += judge[i]\n",
    "        else:\n",
    "            return ret\n",
    "    return ret\n",
    "\n",
    "a(nums)\n"
   ]
  },
  {
   "cell_type": "markdown",
   "metadata": {
    "heading_collapsed": true
   },
   "source": [
    "## 其他树都是两次 找到这个只出现一次的数 1.利用位运算符^ 异或；2.用数学思想解决"
   ]
  },
  {
   "cell_type": "code",
   "execution_count": null,
   "metadata": {
    "hidden": true,
    "scrolled": false
   },
   "outputs": [],
   "source": [
    "l = [4, 1, 2, 1, 2]\n",
    "a = 0\n",
    "for x in l:\n",
    "    print(bin(x))\n",
    "    a = a ^ x\n",
    "    print(bin(a))\n",
    "# print(a)"
   ]
  },
  {
   "cell_type": "code",
   "execution_count": null,
   "metadata": {
    "hidden": true
   },
   "outputs": [],
   "source": [
    "l = [4, 1, 2, 1, 2]\n",
    "ret = 2 * sum(set(l)) - sum(l)\n",
    "print(ret)"
   ]
  },
  {
   "cell_type": "markdown",
   "metadata": {},
   "source": [
    "## 实现求幂函数"
   ]
  },
  {
   "cell_type": "code",
   "execution_count": null,
   "metadata": {},
   "outputs": [],
   "source": [
    "print(bin(14), bin(7))"
   ]
  },
  {
   "cell_type": "code",
   "execution_count": null,
   "metadata": {},
   "outputs": [],
   "source": [
    "def myPow(x, n):\n",
    "    ret = 1\n",
    "    for i in range(abs(n)):\n",
    "        ret = x * ret\n",
    "    ret = ret if n > 0 else 1/ret\n",
    "    return float('%.5f' % ret)\n",
    "\n",
    "myPow(0.00001, 2147483647)"
   ]
  },
  {
   "cell_type": "code",
   "execution_count": null,
   "metadata": {},
   "outputs": [],
   "source": [
    "def myPow(x, n):\n",
    "    m = abs(n)\n",
    "    ans = 1.0\n",
    "    while m:\n",
    "        if m & 1:\n",
    "            ans *= x\n",
    "        x *= x\n",
    "        m >>= 1\n",
    "    return ans if n >= 0 else 1 / ans\n",
    "\n",
    "myPow(0.00001, 2147483647)"
   ]
  },
  {
   "cell_type": "markdown",
   "metadata": {
    "heading_collapsed": true
   },
   "source": [
    "## 三数之和"
   ]
  },
  {
   "cell_type": "code",
   "execution_count": null,
   "metadata": {
    "hidden": true
   },
   "outputs": [],
   "source": [
    "def threeSum(nums):\n",
    "    if len(nums) < 3:\n",
    "        return []\n",
    "\n",
    "    if all(num == 0 for num in nums):\n",
    "        return [[0,0,0]]\n",
    "    \n",
    "    found = []\n",
    "    nums = sorted(nums)\n",
    "    print(nums)\n",
    "    rightmost = len(nums)-1\n",
    "    \n",
    "    #Fix the first element, then search for the other two\n",
    "    for index, eachNum in enumerate(nums):\n",
    "        left = index + 1 \n",
    "        right = rightmost\n",
    "        \n",
    "        while left < right: \n",
    "            print(left, right, eachNum)\n",
    "            check_sum = (eachNum + nums[left] + nums[right])\n",
    "            print(check_sum)\n",
    "            \n",
    "    #Since the list is sorted, we can check whether the leftmost or the rightmost element is causing the sum!=0 \n",
    "            if check_sum == 0:\n",
    "                new_found = [eachNum, nums[left], nums[right]]\n",
    "                print(new_found)\n",
    "                if new_found not in found: \n",
    "                    found.append(new_found)\n",
    "    \n",
    "    #even if we find the element, we need to decrease right, to find all other pairings with the first number\n",
    "                right -=1\n",
    "                \n",
    "    #if the sum is less than 0, then our 2nd number is too low, we check the next highest one in our sorted list\n",
    "            elif check_sum < 0: \n",
    "                left += 1\n",
    "            \n",
    "    #if the sum is less than 0, then our 3rd number is too high, we check the next lowest one in our sorted list\n",
    "            else: \n",
    "                right -= 1\n",
    "    \n",
    "    return found\n",
    "\n",
    "nums = [-1, 0, 1, 2, -1, -4]\n",
    "num = [0, 0, 0, 0, 0]\n",
    "threeSum(nums)"
   ]
  },
  {
   "cell_type": "code",
   "execution_count": null,
   "metadata": {
    "hidden": true
   },
   "outputs": [],
   "source": [
    "l = [-1, 0, 1, 2, -1, -4]\n",
    "l.sort()\n",
    "l"
   ]
  },
  {
   "cell_type": "code",
   "execution_count": null,
   "metadata": {
    "hidden": true
   },
   "outputs": [],
   "source": [
    "def threeSum(nums):\n",
    "    if len(nums) < 3:\n",
    "        return []\n",
    "    if all(num == 0 for num in nums):\n",
    "        return [[0, 0, 0]]\n",
    "    \n",
    "    ret = []\n",
    "    nums.sort()\n",
    "    for i, v in enumerate(nums[:-2]):\n",
    "        l = i + 1\n",
    "        r = len(nums) - 1\n",
    "        while l < r:\n",
    "            judge = v + nums[l] + nums[r]\n",
    "            if judge == 0:\n",
    "                tmp = [v, nums[l], nums[r]]\n",
    "                if tmp not in ret:\n",
    "                    ret.append(tmp)\n",
    "                r -= 1\n",
    "            elif judge < 0:\n",
    "                l += 1\n",
    "            else:\n",
    "                r -= 1\n",
    "    return ret\n",
    "\n",
    "threeSum([-1, 0, 1, 2, -1, -4])\n",
    "                "
   ]
  },
  {
   "cell_type": "markdown",
   "metadata": {
    "heading_collapsed": true
   },
   "source": [
    "## 求众数"
   ]
  },
  {
   "cell_type": "markdown",
   "metadata": {
    "hidden": true
   },
   "source": [
    "### 比较笨的办法，调用api来做"
   ]
  },
  {
   "cell_type": "code",
   "execution_count": null,
   "metadata": {
    "hidden": true
   },
   "outputs": [],
   "source": [
    "nums = [2,2,1,1,1,1,2]\n",
    "c = len(nums)/2\n",
    "for x in nums:\n",
    "    if nums.count(x) > c:\n",
    "        ret = x\n",
    "print(ret)"
   ]
  },
  {
   "cell_type": "markdown",
   "metadata": {
    "hidden": true
   },
   "source": [
    "### 摩尔投票法 第一个数开始计数1，下一个数相等就 +1 否则 -1，直到为计数为0 重新选择"
   ]
  },
  {
   "cell_type": "code",
   "execution_count": null,
   "metadata": {
    "hidden": true
   },
   "outputs": [],
   "source": [
    "nums = [2,2,1,1,1,1,2]\n",
    "c = 0\n",
    "for x in nums:\n",
    "    if c == 0:\n",
    "        ret = x\n",
    "    if x == ret:\n",
    "        c += 1\n",
    "    else:\n",
    "        c -= 1\n",
    "\n",
    "print(ret)"
   ]
  },
  {
   "cell_type": "markdown",
   "metadata": {
    "hidden": true
   },
   "source": [
    "### 是把列表中的每个元素都放在字典的key，然后用字典的value计数，最后取计数最大所对应的key"
   ]
  },
  {
   "cell_type": "code",
   "execution_count": null,
   "metadata": {
    "hidden": true
   },
   "outputs": [],
   "source": [
    "nums = [2,2,1,1,1,1,2]\n",
    "dict1 = {}\n",
    "for i in nums:\n",
    "    if i not in dict1:\n",
    "        dict1[i] = 1\n",
    "    else:\n",
    "        dict1[i] +=1\n",
    "# max(dict1,key=dict1.get)\n",
    "print(dict1)"
   ]
  },
  {
   "cell_type": "code",
   "execution_count": null,
   "metadata": {
    "hidden": true
   },
   "outputs": [],
   "source": [
    "dict1[2]"
   ]
  },
  {
   "cell_type": "markdown",
   "metadata": {
    "heading_collapsed": true
   },
   "source": [
    "## 给定数组的全部子集"
   ]
  },
  {
   "cell_type": "code",
   "execution_count": null,
   "metadata": {
    "hidden": true
   },
   "outputs": [],
   "source": [
    "def subsets(nums):\n",
    "    res = [[]]\n",
    "    for n in nums:\n",
    "        res += [item + [n] for item in res]\n",
    "    return res\n",
    "\n",
    "subsets([1, 2, 3])"
   ]
  },
  {
   "cell_type": "code",
   "execution_count": null,
   "metadata": {
    "hidden": true
   },
   "outputs": [],
   "source": [
    "def subsets(nums):\n",
    "    res = [[]]\n",
    "    for n in nums:\n",
    "        for i in range(len(res)):\n",
    "            res.append(res[i] + [n])\n",
    "    return res\n",
    "\n",
    "subsets([1, 2, 3])"
   ]
  },
  {
   "cell_type": "markdown",
   "metadata": {
    "heading_collapsed": true
   },
   "source": [
    "## 给定 n 个非负整数表示每个宽度为 1 的柱子的高度图，计算按此排列的柱子，下雨之后能接多少雨水。"
   ]
  },
  {
   "cell_type": "code",
   "execution_count": null,
   "metadata": {
    "hidden": true
   },
   "outputs": [],
   "source": []
  },
  {
   "cell_type": "code",
   "execution_count": null,
   "metadata": {
    "hidden": true
   },
   "outputs": [],
   "source": [
    "# 大神的code\n",
    "def trap(height):\n",
    "    \n",
    "    if len(height) > 2:\n",
    "\n",
    "        max_value = max(height)\n",
    "        value_index = height.index(max_value)\n",
    "\n",
    "        v = 0\n",
    "\n",
    "        for i in range(1,value_index):\n",
    "            if height[i] >= height[0]:\n",
    "                height[0] = height[i]\n",
    "            else:\n",
    "                v=v+height[0]-height[i]\n",
    "\n",
    "        for i in range(2,len(height)-value_index):\n",
    "            if height[-i] >= height[-1]:\n",
    "                height[-1] = height[-i]\n",
    "            else:\n",
    "                v=v+height[-1]-height[-i]\n",
    "\n",
    "        return v\n",
    "\n",
    "\n",
    "    else:\n",
    "        return 0\n",
    "    \n",
    "trap([0,1,0,2,1,0,1,3,2,1,2,1])"
   ]
  },
  {
   "cell_type": "code",
   "execution_count": null,
   "metadata": {
    "hidden": true
   },
   "outputs": [],
   "source": [
    "# leetcode通过了的\n",
    "def trap(self, height: List[int]) -> int:\n",
    "    i, j = 0, len(height) -1\n",
    "    ret = 0\n",
    "    left_max = right_max = 0\n",
    "    while i < j:\n",
    "        left_max = max(left_max, height[i])\n",
    "        right_max = max(right_max, height[j])\n",
    "        if left_max <= right_max:\n",
    "            ret += left_max - height[i]\n",
    "            i += 1\n",
    "        else:\n",
    "            ret += right_max -height[j]\n",
    "            j -= 1\n",
    "    return ret"
   ]
  },
  {
   "cell_type": "code",
   "execution_count": null,
   "metadata": {
    "hidden": true
   },
   "outputs": [],
   "source": []
  },
  {
   "cell_type": "code",
   "execution_count": null,
   "metadata": {
    "hidden": true
   },
   "outputs": [],
   "source": [
    "# l = [2,1,1,9]\n",
    "# l = [0,1,0,2,1,0,1,3,2,1,2,1]\n",
    "# l = [2,0,2]\n",
    "# l = [8,2,3,5]\n",
    "l = [4,2,3]"
   ]
  },
  {
   "cell_type": "code",
   "execution_count": null,
   "metadata": {
    "hidden": true
   },
   "outputs": [],
   "source": [
    "def trap(self, height: List[int]) -> int:\n",
    "    if height:\n",
    "        ret = 0\n",
    "        n = max(height)\n",
    "        n = (n if height.count(n) > 1 else n - 1)    \n",
    "        for i in range(n):\n",
    "            sta, end = 0, -1\n",
    "            for i in range(len(height)):\n",
    "                if height[i] > 0:\n",
    "                    sta = i\n",
    "                    break\n",
    "            for j in range(-1, -len(height)-1, -1):\n",
    "                if height[j] > 0:\n",
    "                    if j != -1:\n",
    "                        end = j + 1\n",
    "                        break\n",
    "                    else:\n",
    "                        end = -1\n",
    "                        break\n",
    "            l = height[sta:end]\n",
    "            ret += l.count(0)\n",
    "            height = [x - 1 if x - 1 > 0 else 0 for x in height]\n",
    "        return ret\n",
    "    return 0"
   ]
  },
  {
   "cell_type": "markdown",
   "metadata": {
    "heading_collapsed": true
   },
   "source": [
    "## 反转字符串中的每个单词"
   ]
  },
  {
   "cell_type": "code",
   "execution_count": null,
   "metadata": {
    "hidden": true
   },
   "outputs": [],
   "source": [
    "s = \"Let's take LeetCode contest\"\n",
    "ret = \" \".join(x[::-1] for x in s.split())\n",
    "ret"
   ]
  },
  {
   "cell_type": "code",
   "execution_count": null,
   "metadata": {
    "hidden": true
   },
   "outputs": [],
   "source": [
    "def r(y):\n",
    "    y = y[::-1]\n",
    "    return y\n",
    "    \n",
    "def reverseWords(s: 'str') -> 'str':\n",
    "    s = s.split()\n",
    "    for i in range(len(s)):\n",
    "        s[i] = r(s[i])\n",
    "    return ' '.join(s)\n",
    "\n",
    "s = \"Let's take LeetCode contest\"\n",
    "reverseWords(s)"
   ]
  },
  {
   "cell_type": "markdown",
   "metadata": {
    "heading_collapsed": true
   },
   "source": [
    "## 反转字符串 不用 str内置函数"
   ]
  },
  {
   "cell_type": "code",
   "execution_count": null,
   "metadata": {
    "hidden": true,
    "scrolled": true
   },
   "outputs": [],
   "source": [
    "a = ['h', 'e', 'l', 'g', 'y', 'p']\n",
    "for i in range(len(a)//2):\n",
    "    a[-i - 1], a[i] = a[i], a[-i - 1]\n",
    "a"
   ]
  },
  {
   "cell_type": "markdown",
   "metadata": {
    "heading_collapsed": true
   },
   "source": [
    "## String to int"
   ]
  },
  {
   "cell_type": "code",
   "execution_count": null,
   "metadata": {
    "hidden": true
   },
   "outputs": [],
   "source": [
    "def myAtoi(str: 'str') -> 'int':\n",
    "    str = str.split()\n",
    "    ret = ''\n",
    "    flag = 1\n",
    "    if len(str):\n",
    "        str = str[0]\n",
    "        if str[0] is '+':\n",
    "            tmp = str[1:]\n",
    "        elif str[0] is '-':\n",
    "            tmp = str[1:]\n",
    "            flag = -1\n",
    "        elif str[0].isdigit():\n",
    "            tmp = str\n",
    "        else:\n",
    "            return 0\n",
    "        for x in tmp:\n",
    "            if x.isdigit():\n",
    "                ret += x\n",
    "            else:\n",
    "                break\n",
    "        if not len(ret):\n",
    "            return 0  \n",
    "        ret = int(ret) * flag\n",
    "        if -0x80000000 < ret < 0x80000000:\n",
    "            return ret\n",
    "        elif ret >= 0x80000000:\n",
    "            return 0x80000000 - 1\n",
    "        else:\n",
    "            return -0x80000000\n",
    "    else:\n",
    "        return 0\n",
    "    \n",
    "myAtoi('  -1015da6a1')"
   ]
  },
  {
   "cell_type": "markdown",
   "metadata": {
    "heading_collapsed": true,
    "hidden": true
   },
   "source": [
    "### 这是用正则 匹配所有的数字  跟题意有一点点区别"
   ]
  },
  {
   "cell_type": "code",
   "execution_count": null,
   "metadata": {
    "hidden": true
   },
   "outputs": [],
   "source": [
    "import re\n",
    "s = ' + 1 123'\n",
    "a = s.strip()\n",
    "print(a)\n",
    "print(s)\n",
    "s = (re.sub(r'\\D', \"\", a))\n",
    "print(a)\n",
    "print(s)\n",
    "if a[0] == '-':\n",
    "    print(-int(s))\n",
    "else:\n",
    "    print(int(s))"
   ]
  },
  {
   "cell_type": "markdown",
   "metadata": {
    "heading_collapsed": true
   },
   "source": [
    "## 用减法实现除法"
   ]
  },
  {
   "cell_type": "markdown",
   "metadata": {
    "hidden": true
   },
   "source": [
    "### i <<= 1是 i乘以2的一次方   这两步太秀了，还有判断正负号的方式，太秀了"
   ]
  },
  {
   "cell_type": "code",
   "execution_count": null,
   "metadata": {
    "hidden": true
   },
   "outputs": [],
   "source": [
    "def divide(dividend, divisor):\n",
    "    positive = (dividend < 0) is (divisor < 0)\n",
    "    dividend, divisor = abs(dividend), abs(divisor)\n",
    "    res = 0\n",
    "    while dividend >= divisor:    ##这里的等于是整除的情况 \n",
    "        temp, i = divisor, 1\n",
    "        while dividend >= temp:    \n",
    "            dividend -= temp\n",
    "            print('dividend %s' %dividend)\n",
    "            res += i\n",
    "            print('res %s' %res)\n",
    "            i <<= 1\n",
    "            print('i %s' %i)\n",
    "            temp <<= 1\n",
    "            print('temp%s' %temp)\n",
    "            print()\n",
    "    if not positive:\n",
    "        res = -res\n",
    "    return min(max(-2147483648, res), 2147483647)\n",
    "divide(36, 3)"
   ]
  },
  {
   "cell_type": "code",
   "execution_count": null,
   "metadata": {
    "hidden": true
   },
   "outputs": [],
   "source": [
    "dividend = -10\n",
    "divisor = 3\n",
    "positive = (dividend < 0) is (divisor < 0)\n",
    "dividend, divisor = abs(dividend), abs(divisor)\n",
    "if divisor:\n",
    "    if dividend:\n",
    "        if dividend < divisor:\n",
    "            print(0)\n",
    "        else:\n",
    "            i = 1\n",
    "            while (dividend - divisor) > divisor:\n",
    "                dividend = dividend - divisor\n",
    "                i += 1\n",
    "            if not positive:\n",
    "                i = -i\n",
    "            print(min(max(-2147483648, i), 2147483647))\n",
    "    else:\n",
    "        print(0)\n",
    "else:\n",
    "    print('ooops')"
   ]
  },
  {
   "cell_type": "markdown",
   "metadata": {
    "heading_collapsed": true
   },
   "source": [
    "## 太秀了 判断是否为2的幂级数  按位与运算"
   ]
  },
  {
   "cell_type": "markdown",
   "metadata": {
    "hidden": true
   },
   "source": [
    "### not x 意思相当于 if x is false, then True, else False"
   ]
  },
  {
   "cell_type": "code",
   "execution_count": null,
   "metadata": {
    "hidden": true
   },
   "outputs": [],
   "source": [
    "def a(n):\n",
    "    return n > 0 and not (n & n-1)\n",
    "a(64)    "
   ]
  },
  {
   "cell_type": "code",
   "execution_count": null,
   "metadata": {
    "hidden": true
   },
   "outputs": [],
   "source": [
    "a = 64\n",
    "print(bin(a), bin(a-1))\n",
    "not a & (a - 1)\n"
   ]
  },
  {
   "cell_type": "markdown",
   "metadata": {
    "heading_collapsed": true
   },
   "source": [
    "## 函数运行时间—装饰器@tm"
   ]
  },
  {
   "cell_type": "code",
   "execution_count": null,
   "metadata": {
    "hidden": true
   },
   "outputs": [],
   "source": [
    "import time \n",
    "import functools\n",
    "def tm(func):\n",
    "    @functools.wraps(func)\n",
    "    def wrapper(*args, **kw):\n",
    "        sta = time.time()\n",
    "        f = func(*args, **kw)\n",
    "        print('%s函数运行 %s ms' % (func.__name__, (time.time() - sta)*(10**7)))\n",
    "        return f\n",
    "    return wrapper"
   ]
  },
  {
   "cell_type": "markdown",
   "metadata": {
    "heading_collapsed": true
   },
   "source": [
    "## 打家劫舍 最大收益 = max（截止到上家的收益， 上上家+现在这家的收益）"
   ]
  },
  {
   "cell_type": "markdown",
   "metadata": {
    "hidden": true
   },
   "source": [
    "### 1111  "
   ]
  },
  {
   "cell_type": "code",
   "execution_count": null,
   "metadata": {
    "hidden": true
   },
   "outputs": [],
   "source": [
    "l = [2, 1, 1, 2, 3]\n",
    "r, n, c= 0, 0, 1\n",
    "for i in l:\n",
    "    print('第 %s' %c)\n",
    "    r, n = n, max(r + i, n)\n",
    "    print(r, n)\n",
    "    c += 1\n",
    "print(n)\n"
   ]
  },
  {
   "cell_type": "markdown",
   "metadata": {
    "hidden": true
   },
   "source": [
    "### 222"
   ]
  },
  {
   "cell_type": "code",
   "execution_count": null,
   "metadata": {
    "hidden": true
   },
   "outputs": [],
   "source": []
  },
  {
   "cell_type": "markdown",
   "metadata": {
    "heading_collapsed": true
   },
   "source": [
    "## 给定一个数，在质数列表中找和为它的，返回有几对"
   ]
  },
  {
   "cell_type": "code",
   "execution_count": null,
   "metadata": {
    "hidden": true
   },
   "outputs": [],
   "source": [
    "l = []\n",
    "num = 2\n",
    "while num <= 1000:\n",
    "    for i in range(2, num):\n",
    "        if num % i == 0:\n",
    "            break\n",
    "    else:\n",
    "        l.append(num)\n",
    "    num += 1\n",
    "\n",
    "n = int(input('请输入：'))\n",
    "count = 0\n",
    "l1 = l.copy()     #复制列表和最后删除找到的那个元素是为了解决答案不唯一性\n",
    "for i in l:\n",
    "    res = []\n",
    "    if ((n-i) in l1):\n",
    "        count += 1\n",
    "        l1.remove(i)\n",
    "print(type(count))"
   ]
  },
  {
   "cell_type": "markdown",
   "metadata": {
    "heading_collapsed": true
   },
   "source": [
    "## 去除字符串首位空格"
   ]
  },
  {
   "cell_type": "code",
   "execution_count": null,
   "metadata": {
    "hidden": true
   },
   "outputs": [],
   "source": [
    "# def trim(s):\n",
    "#     if s == '':\n",
    "#         return s\n",
    "#     elif s[:1] == ' ':\n",
    "#         s = s[1:]\n",
    "#         return trim(s)\n",
    "#     elif s[-1:] == ' ':\n",
    "#         s = s[:-1]\n",
    "#         return trim(s)\n",
    "#     return s\n",
    "\n",
    "def trim(s):\n",
    "    if s == '':\n",
    "        return s\n",
    "    while(s[:1] == ' '):\n",
    "        s = s[1:]\n",
    "    while(s[-1:] == ' '):\n",
    "        s = s[:-1]\n",
    "    return s\n",
    "\n",
    "\n",
    "if trim('hello  ') != 'hello':\n",
    "    print('测试失败!')\n",
    "elif trim('  hello') != 'hello':\n",
    "    print('测试失败!')\n",
    "elif trim('  hello  ') != 'hello':\n",
    "    print('测试失败!')\n",
    "elif trim('  hello  world  ') != 'hello  world':\n",
    "    print('测试失败!')\n",
    "elif trim('') != '':\n",
    "    print('测试失败!')\n",
    "elif trim('    ') != '':\n",
    "    print('测试失败!')\n",
    "else:\n",
    "    print('测试成功!')"
   ]
  },
  {
   "cell_type": "markdown",
   "metadata": {
    "heading_collapsed": true
   },
   "source": [
    "## for循环找列表min和max"
   ]
  },
  {
   "cell_type": "code",
   "execution_count": null,
   "metadata": {
    "hidden": true
   },
   "outputs": [],
   "source": [
    "def find(l):\n",
    "    if l:\n",
    "        _min = _max = l[0]\n",
    "        for i in l:\n",
    "            if i < _min:\n",
    "                _min = i\n",
    "            elif i > _max:\n",
    "                _max = i\n",
    "        return _min, _max\n",
    "    return None,None\n",
    "\n",
    "find([])"
   ]
  },
  {
   "cell_type": "code",
   "execution_count": null,
   "metadata": {
    "hidden": true
   },
   "outputs": [],
   "source": [
    "def findMinAndMax(l):\n",
    "    if l:\n",
    "        return min(l),max(l)\n",
    "    return None,None\n",
    "if findMinAndMax([]) != (None, None):\n",
    "    print('测试失败!')\n",
    "elif findMinAndMax([7]) != (7, 7):\n",
    "    print('测试失败!')\n",
    "elif findMinAndMax([7, 1]) != (1, 7):\n",
    "    print('测试失败!')\n",
    "elif findMinAndMax([7, 1, 3, 9, 5]) != (1, 9):\n",
    "    print('测试失败!')\n",
    "else:\n",
    "    print('测试成功!')\n",
    "    "
   ]
  },
  {
   "cell_type": "markdown",
   "metadata": {
    "heading_collapsed": true
   },
   "source": [
    "## 杨辉三角"
   ]
  },
  {
   "cell_type": "code",
   "execution_count": null,
   "metadata": {
    "hidden": true
   },
   "outputs": [],
   "source": [
    "@tm\n",
    "def triangles():\n",
    "    L = [1]\n",
    "    while True:\n",
    "        yield L\n",
    "        L = [1] + [L[i - 1] + num for i, num in enumerate(L) if i] + [1]\n",
    "n = 0\n",
    "results = []\n",
    "for t in triangles():\n",
    "    print(t)\n",
    "    results.append(t)\n",
    "    n = n + 1\n",
    "    if n == 10:\n",
    "        break\n",
    "if results == [\n",
    "    [1],\n",
    "    [1, 1],\n",
    "    [1, 2, 1],\n",
    "    [1, 3, 3, 1],\n",
    "    [1, 4, 6, 4, 1],\n",
    "    [1, 5, 10, 10, 5, 1],\n",
    "    [1, 6, 15, 20, 15, 6, 1],\n",
    "    [1, 7, 21, 35, 35, 21, 7, 1],\n",
    "    [1, 8, 28, 56, 70, 56, 28, 8, 1],\n",
    "    [1, 9, 36, 84, 126, 126, 84, 36, 9, 1]\n",
    "]:\n",
    "    print('测试通过!')\n",
    "else:\n",
    "    print('测试失败!')"
   ]
  },
  {
   "cell_type": "markdown",
   "metadata": {
    "heading_collapsed": true
   },
   "source": [
    "## 所有数之积"
   ]
  },
  {
   "cell_type": "code",
   "execution_count": null,
   "metadata": {
    "hidden": true
   },
   "outputs": [],
   "source": [
    "def product(x, s = 1, *args):\n",
    "    res = x * s\n",
    "    for i in args:\n",
    "        res = res * i\n",
    "    return res\n",
    "if product(5) != 5:\n",
    "    print('测试失败!')\n",
    "elif product(5, 6) != 30:\n",
    "    print('测试失败!')\n",
    "elif product(5, 6, 7) != 210:\n",
    "    print('测试失败!')\n",
    "elif product(5, 6, 7, 9) != 1890:\n",
    "    print('测试失败!')\n",
    "else:\n",
    "    try:\n",
    "        product()\n",
    "        print('测试失败!')\n",
    "    except TypeError:\n",
    "        print('测试成功!')"
   ]
  },
  {
   "cell_type": "code",
   "execution_count": null,
   "metadata": {
    "hidden": true
   },
   "outputs": [],
   "source": [
    "nums = [3, 2, 1, 3]\n",
    "val = 3\n",
    "print(val, type(val))\n",
    "for i in range(len(nums)):\n",
    "    if nums[i] != val:\n",
    "        print(nums[i])"
   ]
  },
  {
   "cell_type": "code",
   "execution_count": null,
   "metadata": {
    "hidden": true
   },
   "outputs": [],
   "source": [
    "l = [0,1,2,2,3,0,4,2]\n",
    "val = 2\n",
    "[l.remove(val) for i in range(l.count(val))]\n",
    "l"
   ]
  },
  {
   "cell_type": "code",
   "execution_count": null,
   "metadata": {
    "hidden": true
   },
   "outputs": [],
   "source": [
    "import random\n",
    "l = [1, 0, -1, 0, -2, 2]\n",
    "i = 0\n",
    "l1 = []\n",
    "while i <3:\n",
    "    b = random.sample(l, 4)\n",
    "    if sum(b) == 0:\n",
    "        l1.append(b)\n",
    "        i += 1\n",
    "print(l1)"
   ]
  },
  {
   "cell_type": "code",
   "execution_count": null,
   "metadata": {
    "hidden": true
   },
   "outputs": [],
   "source": [
    "l = [2, 3, 1, 0, 2, 5, 3]\n",
    "for i in range(len(l)):\n",
    "    l.reverse()\n",
    "    p = l.pop()\n",
    "    if p in l:\n",
    "        print(p)\n",
    "        break"
   ]
  },
  {
   "cell_type": "markdown",
   "metadata": {
    "heading_collapsed": true
   },
   "source": [
    "## 删除列表的重复元素"
   ]
  },
  {
   "cell_type": "code",
   "execution_count": null,
   "metadata": {
    "hidden": true
   },
   "outputs": [],
   "source": [
    "@tm\n",
    "def duplicate(numbers, duplication):\n",
    "    # write code here\n",
    "    l = []\n",
    "    if (len(numbers)) == 0:\n",
    "        return False\n",
    "    [l.append(i) for i in numbers]\n",
    "    l.reverse()\n",
    "    for i in range(len(l)):\n",
    "        p = l.pop()\n",
    "        if p in l:\n",
    "            duplication.append(0)\n",
    "            duplication[0] = p\n",
    "            return True\n",
    "    return False\n",
    "# duplicate([2, 1, 3, 1, 4], [])\n",
    "# print(duplicate([2, 1, 3, 1, 4], []))\n",
    "\n",
    "\n",
    "duplicate([2, 1, 3, 1, 4], [])"
   ]
  },
  {
   "cell_type": "markdown",
   "metadata": {
    "heading_collapsed": true
   },
   "source": [
    "## 娱乐向小游戏"
   ]
  },
  {
   "cell_type": "code",
   "execution_count": null,
   "metadata": {
    "hidden": true
   },
   "outputs": [],
   "source": [
    "def love():\n",
    "    l = input('请回答:')\n",
    "    if l == '尹绪宁':\n",
    "        q = input('真的吗？')\n",
    "        if q == \"真的\":\n",
    "            print('我暂且信了你的邪')\n",
    "            zz()\n",
    "    elif l != \"尹绪宁\":\n",
    "        print('不对哦')\n",
    "        love()\n",
    "\n",
    "def zz():\n",
    "    print('请问尹绪宁是猪猪吗？')\n",
    "    a = input(\"请输入您的答案：\")\n",
    "    if a == '不是':\n",
    "        print('你的良心不会痛吗')\n",
    "        print()\n",
    "        zz()\n",
    "    elif a == '是':\n",
    "        print('怎么可以这样说，猪猪那么可爱')\n",
    "        print()\n",
    "        zz()\n",
    "    elif a == '是可爱的猪猪':\n",
    "        print('这还差不多')\n",
    "        print()\n",
    "    else:\n",
    "        zz()\n",
    "\n",
    "print('以下是来自灵魂深处的拷问，三思而行')\n",
    "print('请问你最喜欢的人是？\\n本问题回答正确方可继续')\n",
    "love()\n",
    "\n"
   ]
  },
  {
   "cell_type": "markdown",
   "metadata": {
    "heading_collapsed": true
   },
   "source": [
    "## 删除排序数组中的重复项"
   ]
  },
  {
   "cell_type": "markdown",
   "metadata": {
    "hidden": true
   },
   "source": [
    "### 最多出现1次"
   ]
  },
  {
   "cell_type": "code",
   "execution_count": null,
   "metadata": {
    "hidden": true
   },
   "outputs": [],
   "source": [
    "l = [0,0,1,1,1,2,2,3,3,4]\n",
    "for x in l:\n",
    "    while l.count(x) != 1:\n",
    "        l.remove(x)\n",
    "l"
   ]
  },
  {
   "cell_type": "markdown",
   "metadata": {
    "hidden": true
   },
   "source": [
    "### 最多出现两次"
   ]
  },
  {
   "cell_type": "code",
   "execution_count": null,
   "metadata": {
    "hidden": true
   },
   "outputs": [],
   "source": [
    "l = [0,0,1,1,1,1,2,3,3,4,4,4]\n",
    "\n",
    "for x in l:\n",
    "    while l.count(x) > 2:\n",
    "        l.remove(x)\n",
    "l"
   ]
  }
 ],
 "metadata": {
  "kernelspec": {
   "display_name": "Python 3",
   "language": "python",
   "name": "python3"
  },
  "language_info": {
   "codemirror_mode": {
    "name": "ipython",
    "version": 3
   },
   "file_extension": ".py",
   "mimetype": "text/x-python",
   "name": "python",
   "nbconvert_exporter": "python",
   "pygments_lexer": "ipython3",
   "version": "3.6.2"
  }
 },
 "nbformat": 4,
 "nbformat_minor": 2
}
