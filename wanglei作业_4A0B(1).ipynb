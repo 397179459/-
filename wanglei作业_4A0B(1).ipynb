{
 "cells": [
  {
   "cell_type": "markdown",
   "metadata": {},
   "source": [
    "### 习题13\n",
    "猜数字游戏2: 系统从0~9 随机选出四位整数(不重复) 组成的谜底a 例如 0279 ,用户每次输入4位的猜想结果 b , 如果b中的四个数字 , 数字相同位置相同的判为A , 数字相同位置不同的判为B ,例如 0745 , 系统则给出 1A1B 的判定结果, 用户有七次的判断机会, 游戏胜利条件是 4A0B\n",
    "追加条件：7次用完之后再询问是否继续猜"
   ]
  },
  {
   "cell_type": "code",
   "execution_count": null,
   "metadata": {},
   "outputs": [],
   "source": [
    "import random\n",
    "la = list(random.sample('0123456789',4))    #取四个数，放到列表la中\n",
    "print(la)        #开发者测试用\n",
    "print(\"您共有7次机会，请三思而行。\")                 \n",
    "\n",
    "def cs():        #定义函数，最后判断是否继续猜数要用到\n",
    "    i = 1\n",
    "    while i<8:\n",
    "        a = b = j = 0\n",
    "        lb = list(input(\"请输入四位数：\")) #将键盘输入的四个数放到列表lb中\n",
    "        if len(lb) != 4:                 #如果按错位数，给予提示重新输入\n",
    "            print(\"位数有误，请您重新输入\")\n",
    "        else:\n",
    "            \n",
    "            #以下是最主要的判断逻辑，依次判断lb中的元素是否在la中\n",
    "            for x in range(4):\n",
    "                if lb[j] in la:          #元素如果在la中，进而判断是“A”还是“B”\n",
    "                    if la[j] == lb[j]:   #如果在相同位置就是“A”\n",
    "                        a += 1\n",
    "                    else:                #否则不在相同位置就是“B”\n",
    "                        b += 1\n",
    "                j += 1                   #依次遍历lb每个元素          \n",
    "            print(\"%sA%sB\" %(a,b),end=\"  \")       #打印出判断结果\n",
    "            i += 1\n",
    "            if a == 4 and b == 0:        #如果猜对了输出成功提示\n",
    "                print(\"Congratulations！你猜对了！\")\n",
    "                break                    #此处一定要有break，否则会继续while循环\n",
    "            else:\n",
    "                print(\"您还有 %s 次机会\" % (8 - i))  #打印出剩余次数的提示信息\n",
    "                print()   #每次猜的结果下面空一行，以免让输出结果比较混乱，方便玩家整理之前的思路\n",
    "    \n",
    "    #下面else是当你用完7次机会之后，选择是否重新再猜一轮\n",
    "    else:      \n",
    "        c = input(\"请选择是否再次猜数Y/N: \")    #玩家选择是否继续，输入Y/N\n",
    "        if c == \"Y\":        #如果输入的是Y，则再次执行while循环\n",
    "            cs()\n",
    "        else:               #这里偷懒了，即使输入的不是“N”，只要是除了“Y”之外的字符都可以结束游戏，反正就是不想继续玩了\n",
    "            print(\"GAME OVER！\")\n",
    "\n",
    "#开始猜数游戏\n",
    "cs()"
   ]
  },
  {
   "cell_type": "markdown",
   "metadata": {},
   "source": [
    "### 评语：\n",
    "1. 整个游戏编写的逻辑都很好, 并且增加了一个判断逻辑，就是对于输入的信息位数判断, 如果不满足要求不算损失一次机会，这点非常好\n",
    "2. 只是有一个小缺陷, 就是当输入完七次后 , 程序print 了 你还有零次机会, 但是while 循环其实还未停止, 因为还需要用户再次输入一个数, 正常来说应该是零次机会后直接就退出循环了, 用户已经没有机会再次输入信息了, 不过这些都是用户体验上的问题, 程序本身没有问题"
   ]
  },
  {
   "cell_type": "code",
   "execution_count": null,
   "metadata": {},
   "outputs": [],
   "source": []
  }
 ],
 "metadata": {
  "kernelspec": {
   "display_name": "Python 2",
   "language": "python",
   "name": "python2"
  },
  "language_info": {
   "codemirror_mode": {
    "name": "ipython",
    "version": 2
   },
   "file_extension": ".py",
   "mimetype": "text/x-python",
   "name": "python",
   "nbconvert_exporter": "python",
   "pygments_lexer": "ipython2",
   "version": "2.7.14"
  }
 },
 "nbformat": 4,
 "nbformat_minor": 2
}
