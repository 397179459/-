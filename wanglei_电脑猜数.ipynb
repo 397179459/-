{
 "cells": [
  {
   "cell_type": "markdown",
   "metadata": {},
   "source": [
    "# 用户输入一个数字，让计算机猜这个数，7次机会。"
   ]
  },
  {
   "cell_type": "code",
   "execution_count": null,
   "metadata": {},
   "outputs": [],
   "source": [
    "import random\n",
    "x = int(input(\"请你输入一个数字： \"))           #用户输入一个数字\n",
    "l = int(input(\"请你输入电脑猜数的下限： \"))      #用户随意给电脑指定猜数的区间\n",
    "h = int(input(\"请你输入电脑猜数的上限： \"))\n",
    "y = int(random.randint(l,h))                   #第一步先让电脑从这个区间随机猜一个数，如果第一步就用二分法，游戏就太死板了\n",
    "#以下是用二分法猜数 7次机会\n",
    "i = 1\n",
    "while i < 8:\n",
    "    print(\"电脑第 %s 次猜的数字是：%s\" %(i,y),end=\"  \")\n",
    "    if y > x:\n",
    "        h = y\n",
    "        print(\"too high\")\n",
    "    elif y < x:\n",
    "        l = y\n",
    "        print(\"too low\")\n",
    "    else:\n",
    "        print(\"Good! 电脑终于猜中了！\")       #如果猜中了，打印出good提示，break跳出循环\n",
    "        break\n",
    "    y = (l+h)//2\n",
    "    i += 1\n",
    "    if i == 8:\n",
    "        print(\"很遗憾，此轮未能猜中！\")           #存在7次都猜不中的情况打印出提示信息\n",
    "        break"
   ]
  },
  {
   "cell_type": "markdown",
   "metadata": {},
   "source": [
    "### 评语：\n",
    "1. 代码很简介, 二分法用的也很好, 首位数给了一个随机波动\n",
    "2. 你已经用二分法完成 电脑玩 猜数字游戏1的程序 , 可以试着挑战下 , 编写一个 用电脑玩  猜数字游戏2 的程序, 就是反馈是几A几B的那个"
   ]
  },
  {
   "cell_type": "code",
   "execution_count": null,
   "metadata": {},
   "outputs": [],
   "source": []
  }
 ],
 "metadata": {
  "kernelspec": {
   "display_name": "Python 2",
   "language": "python",
   "name": "python2"
  },
  "language_info": {
   "codemirror_mode": {
    "name": "ipython",
    "version": 2
   },
   "file_extension": ".py",
   "mimetype": "text/x-python",
   "name": "python",
   "nbconvert_exporter": "python",
   "pygments_lexer": "ipython2",
   "version": "2.7.14"
  }
 },
 "nbformat": 4,
 "nbformat_minor": 2
}
